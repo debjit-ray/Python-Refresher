{
 "cells": [
  {
   "cell_type": "markdown",
   "metadata": {},
   "source": [
    "### Tuple\n",
    "\n",
    "1. **Immutable**\n",
    "2. Allows duplicate members.\n",
    "3. Have below functions: \n",
    "\n",
    "    a. **count** - to count the occurrences of a specific element  \n",
    "    b. **index** - to find the index/ position of a specific element (Can give ValueError on not finding the element)"
   ]
  },
  {
   "cell_type": "code",
   "execution_count": 65,
   "metadata": {},
   "outputs": [
    {
     "name": "stdout",
     "output_type": "stream",
     "text": [
      "3\n",
      "1\n"
     ]
    }
   ],
   "source": [
    "tupleEg1 = ('a', 'b', 'c', 'd', 'e', 'a','b', 'a')\n",
    "\n",
    "print(tupleEg1.count('a'))\n",
    "print(tupleEg1.index('b'))"
   ]
  },
  {
   "cell_type": "code",
   "execution_count": 8,
   "metadata": {},
   "outputs": [
    {
     "name": "stdout",
     "output_type": "stream",
     "text": [
      "apple\n",
      "cherry\n"
     ]
    }
   ],
   "source": [
    "tuple1 = ('banana', 'apple', 'cherry')\n",
    "print(tuple1[1])\n",
    "print(tuple1[-1])"
   ]
  },
  {
   "cell_type": "code",
   "execution_count": 9,
   "metadata": {},
   "outputs": [
    {
     "ename": "TypeError",
     "evalue": "'tuple' object does not support item assignment",
     "output_type": "error",
     "traceback": [
      "\u001b[1;31m---------------------------------------------------------------------------\u001b[0m",
      "\u001b[1;31mTypeError\u001b[0m                                 Traceback (most recent call last)",
      "\u001b[1;32m<ipython-input-9-24fce2ab1d32>\u001b[0m in \u001b[0;36m<module>\u001b[1;34m\u001b[0m\n\u001b[1;32m----> 1\u001b[1;33m \u001b[0mtuple1\u001b[0m\u001b[1;33m[\u001b[0m\u001b[1;36m1\u001b[0m\u001b[1;33m]\u001b[0m \u001b[1;33m=\u001b[0m \u001b[1;34m'mango'\u001b[0m\u001b[1;33m\u001b[0m\u001b[1;33m\u001b[0m\u001b[0m\n\u001b[0m",
      "\u001b[1;31mTypeError\u001b[0m: 'tuple' object does not support item assignment"
     ]
    }
   ],
   "source": [
    "tuple1[1] = 'mango'"
   ]
  },
  {
   "cell_type": "code",
   "execution_count": 13,
   "metadata": {},
   "outputs": [
    {
     "name": "stdout",
     "output_type": "stream",
     "text": [
      "('banana', 'apple', 'cherry', 'mango')\n"
     ]
    }
   ],
   "source": [
    "tuple2 = tuple1 + tuple([\"mango\"])\n",
    "\n",
    "print(tuple2)"
   ]
  },
  {
   "cell_type": "markdown",
   "metadata": {},
   "source": [
    "### List\n",
    "\n",
    "1. **Mutable**\n",
    "2. Allows duplicate members.\n",
    "3. Have variety of functions  \n",
    "    a. **pop** - remove the last element   \n",
    "    b. **remove** - remove the element passed as parameter, if exists *(Gives ValueError on not finding the element)*  \n",
    "    c. **append** - append element at the end  \n",
    "    d. **insert** - insert new element at a specific index  \n",
    "    e. **extend** - add elements of a list to the current list  \n",
    "    f. **count** - counts the occurences of a specific element  \n",
    "    g. **index** - find index of a specific element *(Gives ValueError on not finding the element)*  \n",
    "    h. **reverse** - reverse the contents of the list and updates the current list  \n",
    "    i. **sort** - sort the contents of the list and updates the current list  \n",
    "    j. **clear** - clear the list  \n",
    "    k. **copy** - creates a new copy of the list with the new variable name.  "
   ]
  },
  {
   "cell_type": "code",
   "execution_count": 13,
   "metadata": {},
   "outputs": [
    {
     "data": {
      "text/plain": [
       "[10, 20, 30, 10]"
      ]
     },
     "execution_count": 13,
     "metadata": {},
     "output_type": "execute_result"
    }
   ],
   "source": [
    "listEg = [10, 20, 30, 10]\n",
    "listEg"
   ]
  },
  {
   "cell_type": "code",
   "execution_count": 14,
   "metadata": {},
   "outputs": [
    {
     "data": {
      "text/plain": [
       "[10, 20, 30, 10, 'abcd']"
      ]
     },
     "execution_count": 14,
     "metadata": {},
     "output_type": "execute_result"
    }
   ],
   "source": [
    "listEg.append('abcd')\n",
    "listEg"
   ]
  },
  {
   "cell_type": "code",
   "execution_count": 15,
   "metadata": {},
   "outputs": [
    {
     "data": {
      "text/plain": [
       "[10, 20, 'inserted_value', 30, 10, 'abcd']"
      ]
     },
     "execution_count": 15,
     "metadata": {},
     "output_type": "execute_result"
    }
   ],
   "source": [
    "listEg.insert(2, 'inserted_value')\n",
    "listEg"
   ]
  },
  {
   "cell_type": "code",
   "execution_count": 16,
   "metadata": {},
   "outputs": [
    {
     "data": {
      "text/plain": [
       "[10, 20, 'inserted_value', 30, 10, 'abcd', 'new']"
      ]
     },
     "execution_count": 16,
     "metadata": {},
     "output_type": "execute_result"
    }
   ],
   "source": [
    "listEg.extend([\"new\"])\n",
    "listEg"
   ]
  },
  {
   "cell_type": "code",
   "execution_count": 17,
   "metadata": {},
   "outputs": [
    {
     "name": "stdout",
     "output_type": "stream",
     "text": [
      "[10, 20, 'inserted_value', 30, 10, 'abcd']\n",
      "[10, 20, 'inserted_value', 30, 10]\n",
      "[10, 20, 'inserted_value', 30]\n"
     ]
    }
   ],
   "source": [
    "listEg.pop()\n",
    "print(listEg)\n",
    "listEg.pop()\n",
    "print(listEg)\n",
    "listEg.pop()\n",
    "print(listEg)"
   ]
  },
  {
   "cell_type": "code",
   "execution_count": 18,
   "metadata": {},
   "outputs": [
    {
     "data": {
      "text/plain": [
       "[10, 20, 30]"
      ]
     },
     "execution_count": 18,
     "metadata": {},
     "output_type": "execute_result"
    }
   ],
   "source": [
    "listEg.remove('inserted_value')\n",
    "listEg"
   ]
  },
  {
   "cell_type": "code",
   "execution_count": 19,
   "metadata": {},
   "outputs": [
    {
     "ename": "ValueError",
     "evalue": "list.remove(x): x not in list",
     "output_type": "error",
     "traceback": [
      "\u001b[1;31m---------------------------------------------------------------------------\u001b[0m",
      "\u001b[1;31mValueError\u001b[0m                                Traceback (most recent call last)",
      "\u001b[1;32m<ipython-input-19-eea31bd10ebf>\u001b[0m in \u001b[0;36m<module>\u001b[1;34m\u001b[0m\n\u001b[1;32m----> 1\u001b[1;33m \u001b[0mlistEg\u001b[0m\u001b[1;33m.\u001b[0m\u001b[0mremove\u001b[0m\u001b[1;33m(\u001b[0m\u001b[1;34m'abcd'\u001b[0m\u001b[1;33m)\u001b[0m\u001b[1;33m\u001b[0m\u001b[1;33m\u001b[0m\u001b[0m\n\u001b[0m",
      "\u001b[1;31mValueError\u001b[0m: list.remove(x): x not in list"
     ]
    }
   ],
   "source": [
    "listEg.remove('abcd')"
   ]
  },
  {
   "cell_type": "code",
   "execution_count": 20,
   "metadata": {},
   "outputs": [
    {
     "name": "stdout",
     "output_type": "stream",
     "text": [
      "0\n",
      "1\n",
      "0\n"
     ]
    }
   ],
   "source": [
    "print(listEg.count('inserted_value'))\n",
    "print(listEg.count(10))\n",
    "print(listEg.count('pqr'))"
   ]
  },
  {
   "cell_type": "code",
   "execution_count": 23,
   "metadata": {},
   "outputs": [
    {
     "data": {
      "text/plain": [
       "[10, 20, 30]"
      ]
     },
     "execution_count": 23,
     "metadata": {},
     "output_type": "execute_result"
    }
   ],
   "source": [
    "listEg"
   ]
  },
  {
   "cell_type": "code",
   "execution_count": 24,
   "metadata": {},
   "outputs": [
    {
     "name": "stdout",
     "output_type": "stream",
     "text": [
      "2\n",
      "1\n"
     ]
    },
    {
     "ename": "ValueError",
     "evalue": "'pqr' is not in list",
     "output_type": "error",
     "traceback": [
      "\u001b[1;31m---------------------------------------------------------------------------\u001b[0m",
      "\u001b[1;31mValueError\u001b[0m                                Traceback (most recent call last)",
      "\u001b[1;32m<ipython-input-24-c6b35cad362f>\u001b[0m in \u001b[0;36m<module>\u001b[1;34m\u001b[0m\n\u001b[0;32m      1\u001b[0m \u001b[0mprint\u001b[0m \u001b[1;33m(\u001b[0m\u001b[0mlistEg\u001b[0m\u001b[1;33m.\u001b[0m\u001b[0mindex\u001b[0m\u001b[1;33m(\u001b[0m\u001b[1;36m30\u001b[0m\u001b[1;33m)\u001b[0m\u001b[1;33m)\u001b[0m\u001b[1;33m\u001b[0m\u001b[1;33m\u001b[0m\u001b[0m\n\u001b[0;32m      2\u001b[0m \u001b[0mprint\u001b[0m \u001b[1;33m(\u001b[0m\u001b[0mlistEg\u001b[0m\u001b[1;33m.\u001b[0m\u001b[0mindex\u001b[0m\u001b[1;33m(\u001b[0m\u001b[1;36m20\u001b[0m\u001b[1;33m)\u001b[0m\u001b[1;33m)\u001b[0m\u001b[1;33m\u001b[0m\u001b[1;33m\u001b[0m\u001b[0m\n\u001b[1;32m----> 3\u001b[1;33m \u001b[0mprint\u001b[0m \u001b[1;33m(\u001b[0m\u001b[0mlistEg\u001b[0m\u001b[1;33m.\u001b[0m\u001b[0mindex\u001b[0m\u001b[1;33m(\u001b[0m\u001b[1;34m'pqr'\u001b[0m\u001b[1;33m)\u001b[0m\u001b[1;33m)\u001b[0m\u001b[1;33m\u001b[0m\u001b[1;33m\u001b[0m\u001b[0m\n\u001b[0m",
      "\u001b[1;31mValueError\u001b[0m: 'pqr' is not in list"
     ]
    }
   ],
   "source": [
    "print (listEg.index(30))\n",
    "print (listEg.index(20))\n",
    "print (listEg.index('pqr'))"
   ]
  },
  {
   "cell_type": "code",
   "execution_count": 38,
   "metadata": {},
   "outputs": [
    {
     "name": "stdout",
     "output_type": "stream",
     "text": [
      "['abcd', 'pqrs', 'basda', 'sewq']\n",
      "['sewq', 'basda', 'pqrs', 'abcd']\n"
     ]
    }
   ],
   "source": [
    "newlistEg = ['abcd', 'pqrs', 'basda', 'sewq']\n",
    "print (newlistEg)\n",
    "newlistEg.reverse()\n",
    "print (newlistEg)"
   ]
  },
  {
   "cell_type": "code",
   "execution_count": 27,
   "metadata": {},
   "outputs": [
    {
     "name": "stdout",
     "output_type": "stream",
     "text": [
      "['abcd', 'basda', 'pqrs', 'sewq']\n"
     ]
    }
   ],
   "source": [
    "newlistEg.sort()\n",
    "print (newlistEg)"
   ]
  },
  {
   "cell_type": "code",
   "execution_count": 39,
   "metadata": {},
   "outputs": [
    {
     "name": "stdout",
     "output_type": "stream",
     "text": [
      "[]\n"
     ]
    }
   ],
   "source": [
    "listEg.clear()\n",
    "print (listEg)"
   ]
  },
  {
   "cell_type": "code",
   "execution_count": 41,
   "metadata": {
    "scrolled": true
   },
   "outputs": [
    {
     "name": "stdout",
     "output_type": "stream",
     "text": [
      "['sewq', 'basda', 'pqrs', 'abcd']\n",
      "['sewq', 'basda', 'pqrs', 'abcd']\n"
     ]
    }
   ],
   "source": [
    "listEg = newlistEg\n",
    "print (listEg)\n",
    "print (newlistEg)"
   ]
  },
  {
   "cell_type": "code",
   "execution_count": 42,
   "metadata": {},
   "outputs": [
    {
     "name": "stdout",
     "output_type": "stream",
     "text": [
      "['sewq', 'basda', 'pqrs', 'abcd', 'another_new']\n",
      "['sewq', 'basda', 'pqrs', 'abcd', 'another_new']\n"
     ]
    }
   ],
   "source": [
    "listEg.append('another_new')\n",
    "print (newlistEg)\n",
    "print (listEg)"
   ]
  },
  {
   "cell_type": "markdown",
   "metadata": {},
   "source": [
    "As evident in the above example, this is a Shallow copy.\n",
    "\n",
    "To prevent this and ensure a Deep copy of the list is made, we use the copy function."
   ]
  },
  {
   "cell_type": "code",
   "execution_count": 36,
   "metadata": {},
   "outputs": [
    {
     "name": "stdout",
     "output_type": "stream",
     "text": [
      "['sewq', 'basda', 'pqrs', 'abcd', 'another']\n",
      "['sewq', 'basda', 'pqrs', 'abcd', 'another', 'yet_another']\n",
      "['sewq', 'basda', 'pqrs', 'abcd', 'another']\n"
     ]
    }
   ],
   "source": [
    "listEg = newlistEg.copy()\n",
    "print (listEg)\n",
    "newlistEg.append('yet_another')\n",
    "print (newlistEg)\n",
    "print (listEg)"
   ]
  },
  {
   "cell_type": "code",
   "execution_count": 7,
   "metadata": {},
   "outputs": [
    {
     "name": "stdout",
     "output_type": "stream",
     "text": [
      "Python is Great\n",
      "['P', 'y', 't', 'h', 'o', 'n', ' ', 'i', 's', ' ', 'G', 'r', 'e', 'a', 't']\n",
      "taerG si nohtyP\n"
     ]
    }
   ],
   "source": [
    "my_string = \"Python is Great\"\n",
    "list_myString = list(my_string)\n",
    "print(my_string)\n",
    "print(list_myString)\n",
    "list_myString.reverse()\n",
    "str_dlm = \"\"\n",
    "print (str_dlm.join(list_myString))"
   ]
  },
  {
   "cell_type": "markdown",
   "metadata": {},
   "source": [
    "### Dictionary"
   ]
  },
  {
   "cell_type": "markdown",
   "metadata": {},
   "source": [
    "1. **Mutable**  \n",
    "2. Does not allow duplicate keys\n",
    "3. Primarily used for key - value pair\n",
    "4. Have variety of functions -  \n",
    "\n",
    "> a. **clear** - Removes all the elements from the dictionary  \n",
    "b. **copy** - Returns a copy (shallow) of the dictionary  \n",
    "c. **fromkeys** - Returns a dictionary with the specified keys and value  \n",
    "d. **get** - Returns the value of the specified key  \n",
    "e. **items** - Returns a list containing a tuple for each key value pair  \n",
    "f. **keys** - Returns a list containing the dictionary's keys  \n",
    "g. **pop** - Removes the element with the specified key  \n",
    "h. **popitem** - Removes the last inserted key-value pair  \n",
    "i. **setdefault** - Returns the value of the specified key. If the key does not exist: insert the key, with the specified value  \n",
    "j. **update** - Updates the dictionary with the specified key-value pairs  \n",
    "k. **values** - Returns a list of all the values in the dictionary  "
   ]
  },
  {
   "cell_type": "code",
   "execution_count": 3,
   "metadata": {},
   "outputs": [
    {
     "data": {
      "text/plain": [
       "dict_values([1, 2, 3, 4])"
      ]
     },
     "execution_count": 3,
     "metadata": {},
     "output_type": "execute_result"
    }
   ],
   "source": [
    "dict1 = {\"a\":1,\"b\":2,\"c\":3,\"d\":4}\n",
    "dict1.values()"
   ]
  },
  {
   "cell_type": "code",
   "execution_count": 44,
   "metadata": {},
   "outputs": [
    {
     "data": {
      "text/plain": [
       "dict_keys(['a', 'b', 'c', 'd'])"
      ]
     },
     "execution_count": 44,
     "metadata": {},
     "output_type": "execute_result"
    }
   ],
   "source": [
    "dict1.keys()"
   ]
  },
  {
   "cell_type": "code",
   "execution_count": 45,
   "metadata": {},
   "outputs": [
    {
     "name": "stdout",
     "output_type": "stream",
     "text": [
      "{'a': 7, 'b': 2, 'c': 3, 'd': 4}\n"
     ]
    }
   ],
   "source": [
    "dict1.update({'a' : 7})\n",
    "print(dict1)"
   ]
  },
  {
   "cell_type": "code",
   "execution_count": 5,
   "metadata": {},
   "outputs": [
    {
     "name": "stdout",
     "output_type": "stream",
     "text": [
      "{'a': 10, 'b': 2, 'c': 3, 'd': 4}\n"
     ]
    }
   ],
   "source": [
    "dict1['a'] = 10\n",
    "print(dict1)"
   ]
  },
  {
   "cell_type": "code",
   "execution_count": 46,
   "metadata": {},
   "outputs": [
    {
     "name": "stdout",
     "output_type": "stream",
     "text": [
      "3\n",
      "None\n"
     ]
    }
   ],
   "source": [
    "print (dict1.get('c'))\n",
    "print (dict1.get(2))"
   ]
  },
  {
   "cell_type": "code",
   "execution_count": 47,
   "metadata": {},
   "outputs": [
    {
     "name": "stdout",
     "output_type": "stream",
     "text": [
      "dict_items([('a', 7), ('b', 2), ('c', 3), ('d', 4)])\n"
     ]
    }
   ],
   "source": [
    "print (dict1.items())"
   ]
  },
  {
   "cell_type": "code",
   "execution_count": 48,
   "metadata": {},
   "outputs": [
    {
     "name": "stdout",
     "output_type": "stream",
     "text": [
      "{'a': 7, 'b': 2, 'c': 3, 'd': 4, 'e': 5}\n",
      "{'a': 7, 'b': 2, 'c': 3, 'd': 4, 'f': 6}\n"
     ]
    }
   ],
   "source": [
    "dict2 = dict1.copy()\n",
    "dict1['e'] = 5\n",
    "dict2['f'] = 6\n",
    "print(dict1)\n",
    "print(dict2)"
   ]
  },
  {
   "cell_type": "code",
   "execution_count": 49,
   "metadata": {},
   "outputs": [
    {
     "name": "stdout",
     "output_type": "stream",
     "text": [
      "{'a': 7, 'b': 2, 'c': 3, 'd': 4, 'e': 5}\n",
      "{}\n"
     ]
    }
   ],
   "source": [
    "dict2.clear()\n",
    "print(dict1)\n",
    "print(dict2)"
   ]
  },
  {
   "cell_type": "code",
   "execution_count": 50,
   "metadata": {},
   "outputs": [
    {
     "name": "stdout",
     "output_type": "stream",
     "text": [
      "('e', 5)\n",
      "{'a': 7, 'b': 2, 'c': 3, 'd': 4}\n"
     ]
    }
   ],
   "source": [
    "print(dict1.popitem())\n",
    "print(dict1)"
   ]
  },
  {
   "cell_type": "code",
   "execution_count": 51,
   "metadata": {},
   "outputs": [
    {
     "name": "stdout",
     "output_type": "stream",
     "text": [
      "7\n",
      "{'b': 2, 'c': 3, 'd': 4}\n"
     ]
    }
   ],
   "source": [
    "print(dict1.pop('a'))\n",
    "print(dict1)"
   ]
  },
  {
   "cell_type": "code",
   "execution_count": 52,
   "metadata": {},
   "outputs": [
    {
     "name": "stdout",
     "output_type": "stream",
     "text": [
      "9\n",
      "After dict1.setdefault('z',9): {'b': 2, 'c': 3, 'd': 4, 'z': 9}\n",
      "None\n",
      "After dict1.setdefault('p'): {'b': 2, 'c': 3, 'd': 4, 'z': 9, 'p': None}\n",
      "2\n",
      "After dict1.setdefault('b'): {'b': 2, 'c': 3, 'd': 4, 'z': 9, 'p': None}\n",
      "3\n",
      "After dict1.setdefault('c',7): {'b': 2, 'c': 3, 'd': 4, 'z': 9, 'p': None}\n"
     ]
    }
   ],
   "source": [
    "print (dict1.setdefault('z',9))\n",
    "print(\"After dict1.setdefault('z',9): \" + str(dict1))\n",
    "print (dict1.setdefault('p'))\n",
    "print(\"After dict1.setdefault('p'): \" + str(dict1))\n",
    "print (dict1.setdefault('b'))\n",
    "print(\"After dict1.setdefault('b'): \" + str(dict1))\n",
    "print (dict1.setdefault('c',7))\n",
    "print(\"After dict1.setdefault('c',7): \" + str(dict1))"
   ]
  },
  {
   "cell_type": "code",
   "execution_count": 4,
   "metadata": {},
   "outputs": [
    {
     "name": "stdout",
     "output_type": "stream",
     "text": [
      "{'IN': 0, 'US': 0, 'UK': 0}\n"
     ]
    }
   ],
   "source": [
    "listKeys = [\"IN\", \"US\", \"UK\"]\n",
    "listValues = 0\n",
    "newDict = dict.fromkeys(listKeys, listValues)\n",
    "print (newDict)"
   ]
  },
  {
   "cell_type": "markdown",
   "metadata": {},
   "source": [
    "### Set"
   ]
  },
  {
   "cell_type": "markdown",
   "metadata": {},
   "source": [
    "1. Unindexed collection  \n",
    "2. No duplicate members allowed  \n",
    "3. Variety of functions available  \n",
    ">a. **add** - Adds an element to the set  \n",
    "b. **clear** - Removes all the elements from the set  \n",
    "c. **copy** - Returns a copy of the set  \n",
    "d. **difference** - Returns a set containing the difference between two or more sets  \n",
    "e. **difference_update** - Removes the items in this set that are also included in another, specified set  \n",
    "f. **discard** - Remove the specified item  \n",
    "g. **intersection** - Returns a set, that is the intersection of two other sets  \n",
    "h. **intersection_update** - Removes the items in this set that are not present in other, specified set(s)  \n",
    "i. **isdisjoint** - Returns whether two sets have a intersection or not  \n",
    "j. **issubset** - Returns whether another set contains this set or not  \n",
    "k. **issuperset** - Returns whether this set contains another set or not  \n",
    "l. **pop** - Removes a **random** element from the set  \n",
    "m. **remove** - Removes the specified element  \n",
    "n. **symmetric_difference** - Returns a set with the symmetric differences of two sets  \n",
    "o. **symmetric_difference_update** - inserts the symmetric differences from this set and another  \n",
    "p. **union** - Return a set containing the union of sets  \n",
    "q. **update** - Update the set with the union of this set and others  "
   ]
  },
  {
   "cell_type": "code",
   "execution_count": 94,
   "metadata": {},
   "outputs": [
    {
     "name": "stdout",
     "output_type": "stream",
     "text": [
      "{'US', 'IN', 'UK'}\n",
      "{'US', 'AUS', 'IN', 'UK'}\n",
      "{'US', 'AUS', 'IN', 'UK'}\n"
     ]
    }
   ],
   "source": [
    "set1 = {\"IN\", \"US\", \"UK\"}\n",
    "print (set1)\n",
    "set1.add(\"AUS\")\n",
    "print (set1)\n",
    "set1.add(\"IN\")\n",
    "print (set1)"
   ]
  },
  {
   "cell_type": "code",
   "execution_count": 83,
   "metadata": {},
   "outputs": [
    {
     "ename": "TypeError",
     "evalue": "'set' object is not subscriptable",
     "output_type": "error",
     "traceback": [
      "\u001b[1;31m---------------------------------------------------------------------------\u001b[0m",
      "\u001b[1;31mTypeError\u001b[0m                                 Traceback (most recent call last)",
      "\u001b[1;32m<ipython-input-83-be32ec393e2f>\u001b[0m in \u001b[0;36m<module>\u001b[1;34m\u001b[0m\n\u001b[1;32m----> 1\u001b[1;33m \u001b[0mprint\u001b[0m\u001b[1;33m(\u001b[0m\u001b[0mset1\u001b[0m\u001b[1;33m[\u001b[0m\u001b[1;36m1\u001b[0m\u001b[1;33m]\u001b[0m\u001b[1;33m)\u001b[0m\u001b[1;33m\u001b[0m\u001b[1;33m\u001b[0m\u001b[0m\n\u001b[0m",
      "\u001b[1;31mTypeError\u001b[0m: 'set' object is not subscriptable"
     ]
    }
   ],
   "source": [
    "print(set1[1])"
   ]
  },
  {
   "cell_type": "code",
   "execution_count": 95,
   "metadata": {},
   "outputs": [
    {
     "name": "stdout",
     "output_type": "stream",
     "text": [
      "{'US', 'AUS', 'IN', 'UK'}\n",
      "{'IN', 'PAK', 'AUS', 'US', 'UK'}\n",
      "{'IN', 'AUS', 'US', 'UK', 'CAN'}\n"
     ]
    }
   ],
   "source": [
    "set2 = set1.copy()\n",
    "print(set2)\n",
    "set2.add('CAN')\n",
    "set1.add('PAK')\n",
    "print(set1)\n",
    "print(set2)"
   ]
  },
  {
   "cell_type": "code",
   "execution_count": 92,
   "metadata": {},
   "outputs": [
    {
     "name": "stdout",
     "output_type": "stream",
     "text": [
      "{'PAK'}\n",
      "<class 'set'>\n",
      "{'CAN'}\n",
      "<class 'set'>\n"
     ]
    }
   ],
   "source": [
    "set3 =set1.difference(set2) \n",
    "print(set3)\n",
    "print(type(set3))\n",
    "set4 = set2.difference(set1)\n",
    "print(set4)\n",
    "print(type(set4))"
   ]
  },
  {
   "cell_type": "code",
   "execution_count": 99,
   "metadata": {},
   "outputs": [
    {
     "name": "stdout",
     "output_type": "stream",
     "text": [
      "{'IN'}\n",
      "{'US', 'AUS', 'UK'}\n"
     ]
    }
   ],
   "source": [
    "set1 = {'IN', 'AUS', 'UK'}\n",
    "set2 = {'AUS', 'UK', 'US'}\n",
    "set1.difference_update(set2)\n",
    "print(set1)\n",
    "set2.difference_update(set1) \n",
    "print(set2)"
   ]
  },
  {
   "cell_type": "code",
   "execution_count": 100,
   "metadata": {},
   "outputs": [
    {
     "name": "stdout",
     "output_type": "stream",
     "text": [
      "{'US', 'AUS'}\n"
     ]
    }
   ],
   "source": [
    "set2.discard('UK')\n",
    "print(set2)"
   ]
  },
  {
   "cell_type": "code",
   "execution_count": 103,
   "metadata": {},
   "outputs": [
    {
     "name": "stdout",
     "output_type": "stream",
     "text": [
      "{'AUS', 'UK'}\n"
     ]
    }
   ],
   "source": [
    "set1 = {'IN', 'AUS', 'UK'}\n",
    "set2 = {'AUS', 'UK', 'US'}\n",
    "\n",
    "print(set1.intersection(set2))"
   ]
  },
  {
   "cell_type": "code",
   "execution_count": 104,
   "metadata": {},
   "outputs": [
    {
     "name": "stdout",
     "output_type": "stream",
     "text": [
      "{'AUS', 'IN', 'UK'}\n",
      "{'AUS', 'UK'}\n",
      "{'US', 'AUS', 'UK'}\n",
      "{'AUS', 'UK'}\n"
     ]
    }
   ],
   "source": [
    "print(set1)\n",
    "set1.intersection_update(set2)\n",
    "print(set1)\n",
    "print(set2)\n",
    "set2.intersection_update(set1)\n",
    "print(set2)"
   ]
  },
  {
   "cell_type": "code",
   "execution_count": 106,
   "metadata": {},
   "outputs": [
    {
     "name": "stdout",
     "output_type": "stream",
     "text": [
      "False\n",
      "{'PAK'}\n",
      "{'CAN'}\n",
      "True\n"
     ]
    }
   ],
   "source": [
    "print(set1.isdisjoint(set2))\n",
    "print(set3)\n",
    "print(set4)\n",
    "print(set3.isdisjoint(set4))"
   ]
  },
  {
   "cell_type": "code",
   "execution_count": 112,
   "metadata": {},
   "outputs": [
    {
     "name": "stdout",
     "output_type": "stream",
     "text": [
      "True\n",
      "True\n"
     ]
    }
   ],
   "source": [
    "set1 = {'IN', 'AUS', 'UK', 'US', 'CAN'}\n",
    "set2 = {'AUS', 'UK', 'US'}\n",
    "print(set2.issubset(set1))\n",
    "print(set1.issuperset(set2))"
   ]
  },
  {
   "cell_type": "code",
   "execution_count": 113,
   "metadata": {},
   "outputs": [
    {
     "name": "stdout",
     "output_type": "stream",
     "text": [
      "IN\n",
      "{'AUS', 'US', 'UK', 'CAN'}\n"
     ]
    }
   ],
   "source": [
    "print(set1.pop())\n",
    "print(set1)"
   ]
  },
  {
   "cell_type": "code",
   "execution_count": 114,
   "metadata": {},
   "outputs": [
    {
     "name": "stdout",
     "output_type": "stream",
     "text": [
      "{'AUS', 'US', 'CAN'}\n"
     ]
    }
   ],
   "source": [
    "set1.remove('UK')\n",
    "print(set1)"
   ]
  },
  {
   "cell_type": "code",
   "execution_count": 115,
   "metadata": {},
   "outputs": [
    {
     "ename": "KeyError",
     "evalue": "'UK'",
     "output_type": "error",
     "traceback": [
      "\u001b[1;31m---------------------------------------------------------------------------\u001b[0m",
      "\u001b[1;31mKeyError\u001b[0m                                  Traceback (most recent call last)",
      "\u001b[1;32m<ipython-input-115-ecd13d399af0>\u001b[0m in \u001b[0;36m<module>\u001b[1;34m\u001b[0m\n\u001b[1;32m----> 1\u001b[1;33m \u001b[0mset1\u001b[0m\u001b[1;33m.\u001b[0m\u001b[0mremove\u001b[0m\u001b[1;33m(\u001b[0m\u001b[1;34m'UK'\u001b[0m\u001b[1;33m)\u001b[0m\u001b[1;33m\u001b[0m\u001b[1;33m\u001b[0m\u001b[0m\n\u001b[0m\u001b[0;32m      2\u001b[0m \u001b[0mprint\u001b[0m\u001b[1;33m(\u001b[0m\u001b[0mset1\u001b[0m\u001b[1;33m)\u001b[0m\u001b[1;33m\u001b[0m\u001b[1;33m\u001b[0m\u001b[0m\n",
      "\u001b[1;31mKeyError\u001b[0m: 'UK'"
     ]
    }
   ],
   "source": [
    "set1.remove('UK')\n",
    "print(set1)"
   ]
  },
  {
   "cell_type": "code",
   "execution_count": 121,
   "metadata": {},
   "outputs": [
    {
     "name": "stdout",
     "output_type": "stream",
     "text": [
      "{'US', 'IN'}\n",
      "{'US', 'IN'}\n"
     ]
    }
   ],
   "source": [
    "set1 = {'IN', 'AUS', 'UK'}\n",
    "set2 = {'AUS', 'UK', 'US'}\n",
    "\n",
    "print(set1.symmetric_difference(set2))\n",
    "print(set2.symmetric_difference(set1))"
   ]
  },
  {
   "cell_type": "code",
   "execution_count": 122,
   "metadata": {},
   "outputs": [
    {
     "name": "stdout",
     "output_type": "stream",
     "text": [
      "{'AUS', 'IN', 'UK'}\n",
      "{'US', 'AUS', 'UK'}\n",
      "{'US', 'IN'}\n",
      "{'US', 'AUS', 'UK'}\n"
     ]
    }
   ],
   "source": [
    "print(set1)\n",
    "print(set2)\n",
    "set1.symmetric_difference_update(set2)\n",
    "print(set1)\n",
    "print(set2)"
   ]
  },
  {
   "cell_type": "code",
   "execution_count": 123,
   "metadata": {},
   "outputs": [
    {
     "name": "stdout",
     "output_type": "stream",
     "text": [
      "{'IN', 'US', 'AUS', 'UK'}\n"
     ]
    }
   ],
   "source": [
    "print(set1.union(set2))"
   ]
  },
  {
   "cell_type": "code",
   "execution_count": 124,
   "metadata": {},
   "outputs": [
    {
     "name": "stdout",
     "output_type": "stream",
     "text": [
      "{'US', 'IN'}\n",
      "{'IN', 'US', 'AUS', 'UK'}\n"
     ]
    }
   ],
   "source": [
    "print(set1)\n",
    "set1.update(set2)\n",
    "print(set1)"
   ]
  }
 ],
 "metadata": {
  "kernelspec": {
   "display_name": "Python 3",
   "language": "python",
   "name": "python3"
  },
  "language_info": {
   "codemirror_mode": {
    "name": "ipython",
    "version": 3
   },
   "file_extension": ".py",
   "mimetype": "text/x-python",
   "name": "python",
   "nbconvert_exporter": "python",
   "pygments_lexer": "ipython3",
   "version": "3.7.6"
  }
 },
 "nbformat": 4,
 "nbformat_minor": 4
}
