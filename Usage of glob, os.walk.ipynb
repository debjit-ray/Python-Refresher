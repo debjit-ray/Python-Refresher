{
 "cells": [
  {
   "cell_type": "code",
   "execution_count": 8,
   "metadata": {},
   "outputs": [
    {
     "name": "stdout",
     "output_type": "stream",
     "text": [
      "C:/Debjit/ISB/01_Pre-Term/Session 10 - Intro to Python\\Day1UPdated.ipynb\n",
      "C:/Debjit/ISB/01_Pre-Term/Session 10 - Intro to Python\\MyNotes - Tuple, List, Dictionary, Set.ipynb\n",
      "C:/Debjit/ISB/01_Pre-Term/Session 10 - Intro to Python\\MyPractice.ipynb\n",
      "C:/Debjit/ISB/01_Pre-Term/Session 10 - Intro to Python\\Pandas.ipynb\n",
      "C:/Debjit/ISB/01_Pre-Term/Session 10 - Intro to Python\\Practice Question Solution.ipynb\n",
      "C:/Debjit/ISB/01_Pre-Term/Session 10 - Intro to Python\\PracticeExercises.ipynb\n",
      "C:/Debjit/ISB/01_Pre-Term/Session 10 - Intro to Python\\Untitled.ipynb\n",
      "C:/Debjit/ISB/01_Pre-Term/Session 10 - Intro to Python\\Untitled1.ipynb\n",
      "C:/Debjit/ISB/01_Pre-Term/Session 10 - Intro to Python\\Usage of glob.ipynb\n"
     ]
    }
   ],
   "source": [
    "import glob\n",
    "\n",
    "#Search for specific file types with wildchars\n",
    "for fileName in glob.glob(\"C:/Debjit/ISB/01_Pre-Term/Session 10 - Intro to Python/*.ipynb\"):\n",
    "    print (fileName)"
   ]
  },
  {
   "cell_type": "code",
   "execution_count": 15,
   "metadata": {},
   "outputs": [
    {
     "name": "stdout",
     "output_type": "stream",
     "text": [
      "C:/Debjit/ISB/01_Pre-Term/Session 10 - Intro to Python\\MyPractice.ipynb\n"
     ]
    }
   ],
   "source": [
    "import glob\n",
    "\n",
    "#Search for specific file types with wildchars\n",
    "for fileName in glob.glob(\"C:/Debjit/ISB/01_Pre-Term/Session 10 - Intro to Python/MyPracti??.ipynb\"):\n",
    "    print (fileName)"
   ]
  },
  {
   "cell_type": "code",
   "execution_count": 18,
   "metadata": {},
   "outputs": [
    {
     "name": "stdout",
     "output_type": "stream",
     "text": [
      "C:/Debjit/ISB/01_Pre-Term/Session 10 - Intro to Python\\Untitled1.ipynb\n"
     ]
    }
   ],
   "source": [
    "import glob\n",
    "\n",
    "#Search for specific file types with wildchars\n",
    "for fileName in glob.glob(\"C:/Debjit/ISB/01_Pre-Term/Session 10 - Intro to Python/*[0-9].ipynb\"):\n",
    "    print (fileName)"
   ]
  },
  {
   "cell_type": "code",
   "execution_count": 17,
   "metadata": {},
   "outputs": [
    {
     "name": "stdout",
     "output_type": "stream",
     "text": [
      "C:/Debjit/ISB/01_Pre-Term/Session 10 - Intro to Python\\Day1UPdated.ipynb\n",
      "C:/Debjit/ISB/01_Pre-Term/Session 10 - Intro to Python\\Untitled1.ipynb\n"
     ]
    }
   ],
   "source": [
    "import glob\n",
    "\n",
    "#Search for specific file types with wildchars\n",
    "for fileName in glob.glob(\"C:/Debjit/ISB/01_Pre-Term/Session 10 - Intro to Python/*[0-9]*.ipynb\"):\n",
    "    print (fileName)"
   ]
  },
  {
   "cell_type": "code",
   "execution_count": 19,
   "metadata": {},
   "outputs": [
    {
     "name": "stdout",
     "output_type": "stream",
     "text": [
      "C:/Debjit/ISB/01_Pre-Term\\Assignment-2\\IPA.ipynb\n",
      "C:/Debjit/ISB/01_Pre-Term\\Assignment-2\\Question10.ipynb\n",
      "C:/Debjit/ISB/01_Pre-Term\\Assignment-2\\Untitled.ipynb\n",
      "C:/Debjit/ISB/01_Pre-Term\\Assignment-2\\Untitled1.ipynb\n",
      "C:/Debjit/ISB/01_Pre-Term\\Session 09 - Into to Python\\Day1.ipynb\n",
      "C:/Debjit/ISB/01_Pre-Term\\Session 09 - Into to Python\\ISB-Python Examples\\Day1.ipynb\n",
      "C:/Debjit/ISB/01_Pre-Term\\Session 09 - Into to Python\\ISB-Python Examples\\Day1UPdated.ipynb\n",
      "C:/Debjit/ISB/01_Pre-Term\\Session 10 - Intro to Python\\Day1UPdated.ipynb\n",
      "C:/Debjit/ISB/01_Pre-Term\\Session 10 - Intro to Python\\MyNotes - Tuple, List, Dictionary, Set.ipynb\n",
      "C:/Debjit/ISB/01_Pre-Term\\Session 10 - Intro to Python\\MyPractice.ipynb\n",
      "C:/Debjit/ISB/01_Pre-Term\\Session 10 - Intro to Python\\Pandas.ipynb\n",
      "C:/Debjit/ISB/01_Pre-Term\\Session 10 - Intro to Python\\Practice Question Solution.ipynb\n",
      "C:/Debjit/ISB/01_Pre-Term\\Session 10 - Intro to Python\\PracticeExercises.ipynb\n",
      "C:/Debjit/ISB/01_Pre-Term\\Session 10 - Intro to Python\\Untitled.ipynb\n",
      "C:/Debjit/ISB/01_Pre-Term\\Session 10 - Intro to Python\\Untitled1.ipynb\n",
      "C:/Debjit/ISB/01_Pre-Term\\Session 10 - Intro to Python\\Usage of glob.ipynb\n",
      "C:/Debjit/ISB/01_Pre-Term\\Session 12 - Intro to Python\\Pandas.ipynb\n",
      "C:/Debjit/ISB/01_Pre-Term\\Session 13 - Intro to Python\\API Access_NYTimes.ipynb\n",
      "C:/Debjit/ISB/01_Pre-Term\\Session 13 - Intro to Python\\CaseStudy4.ipynb\n",
      "C:/Debjit/ISB/01_Pre-Term\\Session 13 - Intro to Python\\House Prices.ipynb\n",
      "C:/Debjit/ISB/01_Pre-Term\\Session 13 - Intro to Python\\IMDB Case Study Python3.ipynb\n",
      "C:/Debjit/ISB/01_Pre-Term\\Session 13 - Intro to Python\\IMDB Case Study.ipynb\n",
      "C:/Debjit/ISB/01_Pre-Term\\Session 13 - Intro to Python\\NYC Taxi Trips .ipynb\n",
      "C:/Debjit/ISB/01_Pre-Term\\Session 13 - Intro to Python\\Titanic_Case_Python3.ipynb\n",
      "C:/Debjit/ISB/01_Pre-Term\\Session 13 - Intro to Python\\Twitter Case Study Python3.ipynb\n"
     ]
    }
   ],
   "source": [
    "import glob\n",
    "\n",
    "#Search for specific file types with wildchars\n",
    "for fileName in glob.glob(\"C:/Debjit/ISB/01_Pre-Term/**/*.ipynb\", recursive = True):\n",
    "    print (fileName)"
   ]
  },
  {
   "cell_type": "code",
   "execution_count": 22,
   "metadata": {},
   "outputs": [
    {
     "name": "stdout",
     "output_type": "stream",
     "text": [
      "C:/Debjit/ISB/01_Pre-Term/Assignment-2\\IPA.ipynb\n",
      "C:/Debjit/ISB/01_Pre-Term/Assignment-2\\Question10.ipynb\n",
      "C:/Debjit/ISB/01_Pre-Term/Assignment-2\\Untitled.ipynb\n",
      "C:/Debjit/ISB/01_Pre-Term/Assignment-2\\Untitled1.ipynb\n",
      "C:/Debjit/ISB/01_Pre-Term/Assignment-2\\.ipynb_checkpoints\\IPA-checkpoint.ipynb\n",
      "C:/Debjit/ISB/01_Pre-Term/Assignment-2\\.ipynb_checkpoints\\Question10-checkpoint.ipynb\n",
      "C:/Debjit/ISB/01_Pre-Term/Assignment-2\\.ipynb_checkpoints\\Untitled-checkpoint.ipynb\n",
      "C:/Debjit/ISB/01_Pre-Term/Assignment-2\\.ipynb_checkpoints\\Untitled1-checkpoint.ipynb\n",
      "C:/Debjit/ISB/01_Pre-Term/Session 09 - Into to Python\\Day1.ipynb\n",
      "C:/Debjit/ISB/01_Pre-Term/Session 09 - Into to Python\\.ipynb_checkpoints\\Day1-checkpoint.ipynb\n",
      "C:/Debjit/ISB/01_Pre-Term/Session 09 - Into to Python\\ISB-Python Examples\\Day1.ipynb\n",
      "C:/Debjit/ISB/01_Pre-Term/Session 09 - Into to Python\\ISB-Python Examples\\Day1UPdated.ipynb\n",
      "C:/Debjit/ISB/01_Pre-Term/Session 09 - Into to Python\\ISB-Python Examples\\.ipynb_checkpoints\\Day1UPdated-checkpoint.ipynb\n",
      "C:/Debjit/ISB/01_Pre-Term/Session 10 - Intro to Python\\Day1UPdated.ipynb\n",
      "C:/Debjit/ISB/01_Pre-Term/Session 10 - Intro to Python\\MyNotes - Tuple, List, Dictionary, Set.ipynb\n",
      "C:/Debjit/ISB/01_Pre-Term/Session 10 - Intro to Python\\MyPractice.ipynb\n",
      "C:/Debjit/ISB/01_Pre-Term/Session 10 - Intro to Python\\Pandas.ipynb\n",
      "C:/Debjit/ISB/01_Pre-Term/Session 10 - Intro to Python\\Practice Question Solution.ipynb\n",
      "C:/Debjit/ISB/01_Pre-Term/Session 10 - Intro to Python\\PracticeExercises.ipynb\n",
      "C:/Debjit/ISB/01_Pre-Term/Session 10 - Intro to Python\\Untitled.ipynb\n",
      "C:/Debjit/ISB/01_Pre-Term/Session 10 - Intro to Python\\Untitled1.ipynb\n",
      "C:/Debjit/ISB/01_Pre-Term/Session 10 - Intro to Python\\Usage of glob.ipynb\n",
      "C:/Debjit/ISB/01_Pre-Term/Session 10 - Intro to Python\\.ipynb_checkpoints\\Day1UPdated-checkpoint.ipynb\n",
      "C:/Debjit/ISB/01_Pre-Term/Session 10 - Intro to Python\\.ipynb_checkpoints\\MyNotes - Tuple, List, Dictionary, Set-checkpoint.ipynb\n",
      "C:/Debjit/ISB/01_Pre-Term/Session 10 - Intro to Python\\.ipynb_checkpoints\\MyPractice-checkpoint.ipynb\n",
      "C:/Debjit/ISB/01_Pre-Term/Session 10 - Intro to Python\\.ipynb_checkpoints\\Pandas-checkpoint.ipynb\n",
      "C:/Debjit/ISB/01_Pre-Term/Session 10 - Intro to Python\\.ipynb_checkpoints\\Practice Question Solution-checkpoint.ipynb\n",
      "C:/Debjit/ISB/01_Pre-Term/Session 10 - Intro to Python\\.ipynb_checkpoints\\PracticeExercises-checkpoint.ipynb\n",
      "C:/Debjit/ISB/01_Pre-Term/Session 10 - Intro to Python\\.ipynb_checkpoints\\Untitled-checkpoint.ipynb\n",
      "C:/Debjit/ISB/01_Pre-Term/Session 10 - Intro to Python\\.ipynb_checkpoints\\Untitled1-checkpoint.ipynb\n",
      "C:/Debjit/ISB/01_Pre-Term/Session 10 - Intro to Python\\.ipynb_checkpoints\\Usage of glob-checkpoint.ipynb\n",
      "C:/Debjit/ISB/01_Pre-Term/Session 12 - Intro to Python\\Pandas.ipynb\n",
      "C:/Debjit/ISB/01_Pre-Term/Session 12 - Intro to Python\\.ipynb_checkpoints\\Pandas-checkpoint.ipynb\n",
      "C:/Debjit/ISB/01_Pre-Term/Session 13 - Intro to Python\\API Access_NYTimes.ipynb\n",
      "C:/Debjit/ISB/01_Pre-Term/Session 13 - Intro to Python\\CaseStudy4.ipynb\n",
      "C:/Debjit/ISB/01_Pre-Term/Session 13 - Intro to Python\\House Prices.ipynb\n",
      "C:/Debjit/ISB/01_Pre-Term/Session 13 - Intro to Python\\IMDB Case Study Python3.ipynb\n",
      "C:/Debjit/ISB/01_Pre-Term/Session 13 - Intro to Python\\IMDB Case Study.ipynb\n",
      "C:/Debjit/ISB/01_Pre-Term/Session 13 - Intro to Python\\NYC Taxi Trips .ipynb\n",
      "C:/Debjit/ISB/01_Pre-Term/Session 13 - Intro to Python\\Titanic_Case_Python3.ipynb\n",
      "C:/Debjit/ISB/01_Pre-Term/Session 13 - Intro to Python\\Twitter Case Study Python3.ipynb\n",
      "C:/Debjit/ISB/01_Pre-Term/Session 13 - Intro to Python\\.ipynb_checkpoints\\API Access_NYTimes-checkpoint.ipynb\n",
      "C:/Debjit/ISB/01_Pre-Term/Session 13 - Intro to Python\\.ipynb_checkpoints\\CaseStudy4-checkpoint.ipynb\n",
      "C:/Debjit/ISB/01_Pre-Term/Session 13 - Intro to Python\\.ipynb_checkpoints\\House Prices-checkpoint.ipynb\n",
      "C:/Debjit/ISB/01_Pre-Term/Session 13 - Intro to Python\\.ipynb_checkpoints\\IMDB Case Study Python3-checkpoint.ipynb\n",
      "C:/Debjit/ISB/01_Pre-Term/Session 13 - Intro to Python\\.ipynb_checkpoints\\IMDB Case Study-checkpoint.ipynb\n",
      "C:/Debjit/ISB/01_Pre-Term/Session 13 - Intro to Python\\.ipynb_checkpoints\\NYC Taxi Trips -checkpoint.ipynb\n",
      "C:/Debjit/ISB/01_Pre-Term/Session 13 - Intro to Python\\.ipynb_checkpoints\\Titanic_Case_Python3-checkpoint.ipynb\n",
      "C:/Debjit/ISB/01_Pre-Term/Session 13 - Intro to Python\\.ipynb_checkpoints\\Twitter Case Study Python3-checkpoint.ipynb\n"
     ]
    }
   ],
   "source": [
    "import os\n",
    "\n",
    "for dirName, subdirName, fileName in os.walk(\"C:/Debjit/ISB/01_Pre-Term/\"):\n",
    "    for eachFile in fileName:\n",
    "        if eachFile.endswith(\".ipynb\"):\n",
    "            print(os.path.join(dirName,eachFile))"
   ]
  }
 ],
 "metadata": {
  "kernelspec": {
   "display_name": "Python 3",
   "language": "python",
   "name": "python3"
  },
  "language_info": {
   "codemirror_mode": {
    "name": "ipython",
    "version": 3
   },
   "file_extension": ".py",
   "mimetype": "text/x-python",
   "name": "python",
   "nbconvert_exporter": "python",
   "pygments_lexer": "ipython3",
   "version": "3.7.6"
  }
 },
 "nbformat": 4,
 "nbformat_minor": 4
}
