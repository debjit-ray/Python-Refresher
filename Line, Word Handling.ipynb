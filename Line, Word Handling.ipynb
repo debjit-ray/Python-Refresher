{
 "cells": [
  {
   "cell_type": "code",
   "execution_count": null,
   "metadata": {},
   "outputs": [],
   "source": [
    "inpFile = open(\"glob Function.txt\", \"r\")\n",
    "for eachLine in inpFile:\n",
    "    print(eachLine)\n",
    "    print(\"-----\")\n",
    "inpFile.close()"
   ]
  },
  {
   "cell_type": "code",
   "execution_count": null,
   "metadata": {},
   "outputs": [],
   "source": [
    "inpFile = open(\"glob Function.txt\", \"r\")\n",
    "for eachLine in inpFile:\n",
    "    wordsinLine = eachLine.split()\n",
    "    print(wordsinLine)\n",
    "inpFile.close()"
   ]
  },
  {
   "cell_type": "code",
   "execution_count": null,
   "metadata": {},
   "outputs": [],
   "source": [
    "import string\n",
    "translation_rule = str.maketrans(\"\",\"\",string.punctuation)\n",
    "inpFile = open(\"glob Function.txt\", \"r\")\n",
    "for eachLine in inpFile:\n",
    "    wordsinLine = eachLine.split()\n",
    "    for eachWord in wordsinLine:\n",
    "        cleanWord = eachWord.translate(translation_rule)\n",
    "        print(cleanWord.strip())\n",
    "inpFile.close()"
   ]
  },
  {
   "cell_type": "code",
   "execution_count": null,
   "metadata": {},
   "outputs": [],
   "source": [
    "import string\n",
    "translation_rule = str.maketrans(\"\",\"\",string.punctuation)\n",
    "inpFile = open(\"glob Function.txt\", \"r\")\n",
    "for eachLine in inpFile:\n",
    "    wordsinLine = eachLine.split()\n",
    "    for eachWord in wordsinLine:\n",
    "        cleanWord = eachWord.translate(translation_rule)\n",
    "        print(cleanWord.strip())\n",
    "inpFile.close()"
   ]
  },
  {
   "cell_type": "code",
   "execution_count": null,
   "metadata": {},
   "outputs": [],
   "source": [
    "import string\n",
    "translation_rule = str.maketrans(\"\",\"\",string.punctuation)\n",
    "inpFile = open(\"glob Function.txt\", \"r\")\n",
    "outputStr = \"\"\n",
    "for eachLine in inpFile:\n",
    "    wordsinLine = eachLine.split()\n",
    "    for eachWord in wordsinLine:\n",
    "        cleanWord = eachWord.translate(translation_rule)\n",
    "        outputStr = outputStr + cleanWord.strip() + \" \" \n",
    "outputStr = outputStr.replace(\"  \",\" \")\n",
    "print(outputStr)\n",
    "inpFile.close()"
   ]
  },
  {
   "cell_type": "code",
   "execution_count": null,
   "metadata": {},
   "outputs": [],
   "source": [
    "import string\n",
    "translation_rule = str.maketrans(\"\",\"\",string.punctuation)\n",
    "inpFile = open(\"glob Function.txt\", \"r\")\n",
    "outputStr = \"\"\n",
    "for eachLine in inpFile:\n",
    "    wordsinLine = eachLine.split()\n",
    "    for eachWord in wordsinLine:\n",
    "        cleanWord = eachWord.translate(translation_rule)\n",
    "        outputStr = outputStr + cleanWord.strip() + \" \" \n",
    "outputStr = outputStr.replace(\"  \",\" \")\n",
    "print(outputStr)\n",
    "inpFile.close()"
   ]
  },
  {
   "cell_type": "code",
   "execution_count": 4,
   "metadata": {},
   "outputs": [
    {
     "name": "stdout",
     "output_type": "stream",
     "text": [
      "Final output string is : \n",
      "How to use Glob function to find files recursively in Python Glob 72  is a general term used to define techniques to match specified patterns according to rules related to Unix shell Linux and Unix systems and shells also support glob and also provide function glob in system libraries\n",
      "\n",
      " Final word count is: \n",
      "Counter({'to': 6, 'and': 3, 'Glob': 2, 'function': 2, 'in': 2, 'Unix': 2, 'also': 2, 'glob': 2, 'How': 1, 'use': 1, 'find': 1, 'files': 1, 'recursively': 1, 'Python': 1, '72': 1, '': 1, 'is': 1, 'a': 1, 'general': 1, 'term': 1, 'used': 1, 'define': 1, 'techniques': 1, 'match': 1, 'specified': 1, 'patterns': 1, 'according': 1, 'rules': 1, 'related': 1, 'shell': 1, 'Linux': 1, 'systems': 1, 'shells': 1, 'support': 1, 'provide': 1, 'system': 1, 'libraries': 1})\n",
      "\n",
      "Words in the dictionary count: \n",
      "\t\tare: 0\n",
      "\t\tis: 1\n",
      "\t\tan: 0\n",
      "\t\ta: 1\n"
     ]
    }
   ],
   "source": [
    "import string\n",
    "from collections import Counter\n",
    "\n",
    "dict1 = {'is', 'are', 'a', 'an'}\n",
    "translation_rule = str.maketrans(\"\",\"\",string.punctuation)\n",
    "inpFile = open(\"glob Function.txt\", \"r\")\n",
    "outputStr = []\n",
    "strDelim = \" \"\n",
    "for eachLine in inpFile:\n",
    "    wordsinLine = eachLine.split()\n",
    "    for eachWord in wordsinLine:\n",
    "        cleanWord = eachWord.translate(translation_rule)\n",
    "        outputStr.append(cleanWord.strip())\n",
    "\n",
    "finalStr = strDelim.join(outputStr)\n",
    "print(\"Final output string is : \\n\" + finalStr)\n",
    "wrdCnt = Counter(outputStr)\n",
    "print(\"\\n Final word count is: \\n\" + str(wrdCnt))\n",
    "\n",
    "print (\"\\nWords in the dictionary count: \")\n",
    "for eachWord in dict1:\n",
    "    print (\"\\t\\t\" + str(eachWord) +\": \"+ str(outputStr.count(eachWord)))\n",
    "#print(\"\\n Final dictionary word count is: \\n\")\n",
    "#print(dict1)\n",
    "inpFile.close()"
   ]
  }
 ],
 "metadata": {
  "kernelspec": {
   "display_name": "Python 3",
   "language": "python",
   "name": "python3"
  },
  "language_info": {
   "codemirror_mode": {
    "name": "ipython",
    "version": 3
   },
   "file_extension": ".py",
   "mimetype": "text/x-python",
   "name": "python",
   "nbconvert_exporter": "python",
   "pygments_lexer": "ipython3",
   "version": "3.7.6"
  }
 },
 "nbformat": 4,
 "nbformat_minor": 4
}
