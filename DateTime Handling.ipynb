{
 "cells": [
  {
   "cell_type": "code",
   "execution_count": 5,
   "metadata": {},
   "outputs": [
    {
     "name": "stdout",
     "output_type": "stream",
     "text": [
      "2020-04-09 07:48:53.074285\n",
      "2020\n",
      "4\n",
      "9\n",
      "7\n",
      "48\n",
      "53\n",
      "74285\n"
     ]
    }
   ],
   "source": [
    "import datetime\n",
    "\n",
    "x = datetime.datetime.now()\n",
    "print(x)\n",
    "print(x.year)\n",
    "print(x.month)\n",
    "print(x.day)\n",
    "print(x.hour)\n",
    "print(x.minute)\n",
    "print(x.second)\n",
    "print(x.microsecond)"
   ]
  },
  {
   "cell_type": "code",
   "execution_count": 3,
   "metadata": {},
   "outputs": [
    {
     "name": "stdout",
     "output_type": "stream",
     "text": [
      "2020-04-09 08:36:23.202376\n",
      "2020\n",
      "4\n",
      "9\n",
      "8\n",
      "36\n",
      "23\n",
      "202376\n"
     ]
    }
   ],
   "source": [
    "from datetime import datetime\n",
    "\n",
    "x = datetime.now()\n",
    "print(x)\n",
    "print(x.year)\n",
    "print(x.month)\n",
    "print(x.day)\n",
    "print(x.hour)\n",
    "print(x.minute)\n",
    "print(x.second)\n",
    "print(x.microsecond)"
   ]
  },
  {
   "cell_type": "code",
   "execution_count": null,
   "metadata": {},
   "outputs": [],
   "source": []
  },
  {
   "cell_type": "code",
   "execution_count": 13,
   "metadata": {},
   "outputs": [
    {
     "name": "stdout",
     "output_type": "stream",
     "text": [
      "2020-07-20\n",
      "2020\n",
      "20\n"
     ]
    }
   ],
   "source": [
    "y = datetime.date(2020,7,20) #yyyy, mm, dd\n",
    "print(y)\n",
    "\n",
    "print(y.strftime(\"%Y\")) # Year, full version\n",
    "print(y.strftime(\"%y\")) # year, short version"
   ]
  },
  {
   "cell_type": "code",
   "execution_count": 20,
   "metadata": {},
   "outputs": [
    {
     "name": "stdout",
     "output_type": "stream",
     "text": [
      "2020-04-09 08:02:45.026709\n",
      "00:00:00\n"
     ]
    }
   ],
   "source": [
    "y = datetime.datetime.now()\n",
    "print(y)\n",
    "z = datetime.time()\n",
    "print(z)"
   ]
  },
  {
   "cell_type": "code",
   "execution_count": 21,
   "metadata": {},
   "outputs": [
    {
     "name": "stdout",
     "output_type": "stream",
     "text": [
      "April\n",
      "Apr\n"
     ]
    }
   ],
   "source": [
    "print(y.strftime(\"%B\")) # Month name, full version\n",
    "print(y.strftime(\"%b\")) # Month name, short version"
   ]
  },
  {
   "cell_type": "code",
   "execution_count": 22,
   "metadata": {},
   "outputs": [
    {
     "name": "stdout",
     "output_type": "stream",
     "text": [
      "09\n",
      "Thursday\n",
      "Thu\n",
      "4\n"
     ]
    }
   ],
   "source": [
    "print(y.strftime(\"%d\")) # Day of the month \n",
    "print(y.strftime(\"%A\")) # Weekday, full version\n",
    "print(y.strftime(\"%a\")) # Weekday, short version\n",
    "print(y.strftime(\"%w\")) # Weekday as a number,  0 - Sunday"
   ]
  },
  {
   "cell_type": "code",
   "execution_count": 23,
   "metadata": {},
   "outputs": [
    {
     "name": "stdout",
     "output_type": "stream",
     "text": [
      "08\n",
      "08\n",
      "AM\n"
     ]
    }
   ],
   "source": [
    "print(y.strftime(\"%H\")) # Hour in 24 hours format\n",
    "print(y.strftime(\"%I\")) # Hour in 12 hours format\n",
    "print(y.strftime(\"%p\")) # AM/ PM"
   ]
  },
  {
   "cell_type": "code",
   "execution_count": 24,
   "metadata": {},
   "outputs": [
    {
     "name": "stdout",
     "output_type": "stream",
     "text": [
      "02\n",
      "45\n"
     ]
    }
   ],
   "source": [
    "print(y.strftime(\"%M\")) # Minutes\n",
    "print(y.strftime(\"%S\")) # Seconds"
   ]
  },
  {
   "cell_type": "code",
   "execution_count": 25,
   "metadata": {},
   "outputs": [
    {
     "name": "stdout",
     "output_type": "stream",
     "text": [
      "\n",
      "100\n"
     ]
    }
   ],
   "source": [
    "print(y.strftime(\"%Z\")) # Time Zone\n",
    "print(y.strftime(\"%j\")) # Day number of year 001-366"
   ]
  },
  {
   "cell_type": "code",
   "execution_count": 26,
   "metadata": {},
   "outputs": [
    {
     "name": "stdout",
     "output_type": "stream",
     "text": [
      "14\n",
      "14\n"
     ]
    }
   ],
   "source": [
    "print(y.strftime(\"%U\")) # Week number of year, Sunday as the first day of week, 00-53\n",
    "print(y.strftime(\"%W\")) # Week number of year, Monday as the first day of week, 00-53"
   ]
  },
  {
   "cell_type": "code",
   "execution_count": 28,
   "metadata": {},
   "outputs": [
    {
     "name": "stdout",
     "output_type": "stream",
     "text": [
      "2020-04-06 08:02:45.026709\n"
     ]
    }
   ],
   "source": [
    "# Operations on date time\n",
    "# 3 days ago\n",
    "oldDate = y - datetime.timedelta(days = 3)\n",
    "print(oldDate)"
   ]
  },
  {
   "cell_type": "code",
   "execution_count": 32,
   "metadata": {},
   "outputs": [
    {
     "name": "stdout",
     "output_type": "stream",
     "text": [
      "2019-12-10 21:41:26.436709\n",
      "2020-05-07 08:02:45.026709\n"
     ]
    }
   ],
   "source": [
    "# Operations on date time\n",
    "# 3 days ago\n",
    "timePeriod = datetime.timedelta(days=120, seconds=54, microseconds=30000, milliseconds=24560, minutes=20, hours=10)\n",
    "oldDate = y - timePeriod\n",
    "print(oldDate)\n",
    "timePeriod = datetime.timedelta(weeks = 4)\n",
    "newDate = y + timePeriod\n",
    "print(newDate)"
   ]
  },
  {
   "cell_type": "code",
   "execution_count": 33,
   "metadata": {},
   "outputs": [
    {
     "name": "stdout",
     "output_type": "stream",
     "text": [
      "148 days, 10:21:18.590000\n"
     ]
    }
   ],
   "source": [
    "print(newDate - oldDate)"
   ]
  },
  {
   "cell_type": "code",
   "execution_count": 46,
   "metadata": {},
   "outputs": [
    {
     "name": "stdout",
     "output_type": "stream",
     "text": [
      "148 days, 10:21:18.590000\n",
      "148\n",
      "37278\n",
      "590000\n"
     ]
    }
   ],
   "source": [
    "timeDiff = newDate - oldDate\n",
    "print(timeDiff)\n",
    "print(timeDiff.days)\n",
    "print(timeDiff.seconds)\n",
    "print(timeDiff.microseconds)"
   ]
  },
  {
   "cell_type": "code",
   "execution_count": 53,
   "metadata": {},
   "outputs": [
    {
     "name": "stdout",
     "output_type": "stream",
     "text": [
      "08:30:40\n",
      "08:30:40.169473\n"
     ]
    }
   ],
   "source": [
    "currentDateTime = datetime.datetime.now()\n",
    "currentTime = currentDateTime.strftime(\"%H:%M:%S\")\n",
    "print(currentTime)\n",
    "\n",
    "anothercurrentTime = datetime.datetime.now().time()\n",
    "print(anothercurrentTime)"
   ]
  },
  {
   "cell_type": "code",
   "execution_count": 57,
   "metadata": {},
   "outputs": [
    {
     "name": "stdout",
     "output_type": "stream",
     "text": [
      "time.struct_time(tm_year=2020, tm_mon=4, tm_mday=9, tm_hour=8, tm_min=32, tm_sec=46, tm_wday=3, tm_yday=100, tm_isdst=0)\n",
      "08:32:46\n"
     ]
    }
   ],
   "source": [
    "import time\n",
    "currentTime = time.localtime()\n",
    "print(currentTime)\n",
    "print(time.strftime(\"%H:%M:%S\", currentTime))"
   ]
  },
  {
   "cell_type": "code",
   "execution_count": 2,
   "metadata": {},
   "outputs": [
    {
     "name": "stdout",
     "output_type": "stream",
     "text": [
      "London time: 04:06:00\n"
     ]
    }
   ],
   "source": [
    "import pytz\n",
    "from datetime import datetime\n",
    "tz_London = pytz.timezone('Europe/London')\n",
    "datetime_London = datetime.now(tz_London)\n",
    "print(\"London time:\", datetime_London.strftime(\"%H:%M:%S\"))"
   ]
  }
 ],
 "metadata": {
  "kernelspec": {
   "display_name": "Python 3",
   "language": "python",
   "name": "python3"
  },
  "language_info": {
   "codemirror_mode": {
    "name": "ipython",
    "version": 3
   },
   "file_extension": ".py",
   "mimetype": "text/x-python",
   "name": "python",
   "nbconvert_exporter": "python",
   "pygments_lexer": "ipython3",
   "version": "3.7.6"
  }
 },
 "nbformat": 4,
 "nbformat_minor": 4
}
