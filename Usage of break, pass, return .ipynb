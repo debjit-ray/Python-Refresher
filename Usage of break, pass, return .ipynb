{
 "cells": [
  {
   "cell_type": "code",
   "execution_count": 21,
   "metadata": {},
   "outputs": [
    {
     "name": "stdout",
     "output_type": "stream",
     "text": [
      "j: 2 i: 1\n",
      "j: 2 i: 2\n",
      "j: 2 i: 3\n",
      "j: 2 i: 4\n",
      "Out of Inner Loop\n"
     ]
    }
   ],
   "source": [
    "for i in range(1,10,1):\n",
    "        if i == 5:\n",
    "            break\n",
    "        else:\n",
    "            print(\"j: \" + str(j) + \" i: \" + str(i))\n",
    "print(\"Out of Inner Loop\")"
   ]
  },
  {
   "cell_type": "code",
   "execution_count": 20,
   "metadata": {},
   "outputs": [
    {
     "name": "stdout",
     "output_type": "stream",
     "text": [
      "j: 1 i: 1\n",
      "j: 1 i: 2\n",
      "j: 1 i: 3\n",
      "j: 1 i: 4\n",
      "Out of Inner Loop\n",
      "j: 2 i: 1\n",
      "j: 2 i: 2\n",
      "j: 2 i: 3\n",
      "j: 2 i: 4\n",
      "Out of Inner Loop\n",
      "Out of Outer Loop\n"
     ]
    }
   ],
   "source": [
    "for j in range(1,3,1):\n",
    "    for i in range(1,10,1):\n",
    "            if i == 5:\n",
    "                break\n",
    "            else:\n",
    "                print(\"j: \" + str(j) + \" i: \" + str(i))\n",
    "    print(\"Out of Inner Loop\")\n",
    "print(\"Out of Outer Loop\")"
   ]
  },
  {
   "cell_type": "code",
   "execution_count": 13,
   "metadata": {
    "scrolled": true
   },
   "outputs": [
    {
     "name": "stdout",
     "output_type": "stream",
     "text": [
      "1\n",
      "2\n",
      "3\n",
      "4\n",
      "6\n",
      "7\n",
      "8\n",
      "9\n",
      "Out of Loop\n"
     ]
    }
   ],
   "source": [
    "for i in range(1,10,1):\n",
    "    if i == 5:\n",
    "        pass\n",
    "    else:\n",
    "        print(i)\n",
    "print(\"Out of Loop\")"
   ]
  },
  {
   "cell_type": "code",
   "execution_count": 24,
   "metadata": {},
   "outputs": [
    {
     "name": "stdout",
     "output_type": "stream",
     "text": [
      "j: 2 i: 1\n",
      "j: 2 i: 2\n",
      "j: 2 i: 3\n",
      "j: 2 i: 4\n",
      "Back to the main program\n"
     ]
    }
   ],
   "source": [
    "def quickfunc():\n",
    "    for i in range(1,10,1):\n",
    "            if i == 5:\n",
    "                return\n",
    "            else:\n",
    "                print(\"j: \" + str(j) + \" i: \" + str(i))\n",
    "    print(\"Out of Inner Loop\")\n",
    "    return\n",
    "\n",
    "quickfunc()\n",
    "print(\"Back to the main program\")"
   ]
  },
  {
   "cell_type": "code",
   "execution_count": 18,
   "metadata": {},
   "outputs": [
    {
     "name": "stdout",
     "output_type": "stream",
     "text": [
      "j: 1 i: 1\n",
      "j: 1 i: 2\n",
      "j: 1 i: 3\n",
      "j: 1 i: 4\n",
      "In the main program, a: None\n"
     ]
    }
   ],
   "source": [
    "def quickfunc():\n",
    "    for j in range(1,3,1):\n",
    "        for i in range(1,10,1):\n",
    "                if i == 5:\n",
    "                    return\n",
    "                else:\n",
    "                    print(\"j: \" + str(j) + \" i: \" + str(i))\n",
    "        print(\"Out of Inner Loop\")\n",
    "    print(\"Out of Outer Loop\")\n",
    "\n",
    "a = quickfunc()\n",
    "print(\"In the main program, a: \" + str(a))"
   ]
  },
  {
   "cell_type": "code",
   "execution_count": null,
   "metadata": {},
   "outputs": [],
   "source": []
  }
 ],
 "metadata": {
  "kernelspec": {
   "display_name": "Python 3",
   "language": "python",
   "name": "python3"
  },
  "language_info": {
   "codemirror_mode": {
    "name": "ipython",
    "version": 3
   },
   "file_extension": ".py",
   "mimetype": "text/x-python",
   "name": "python",
   "nbconvert_exporter": "python",
   "pygments_lexer": "ipython3",
   "version": "3.7.6"
  }
 },
 "nbformat": 4,
 "nbformat_minor": 4
}
